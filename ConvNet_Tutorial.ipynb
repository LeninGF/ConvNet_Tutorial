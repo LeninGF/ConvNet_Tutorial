{
  "nbformat": 4,
  "nbformat_minor": 0,
  "metadata": {
    "colab": {
      "name": "Copy of ConvNet Tutorial.ipynb",
      "version": "0.3.2",
      "provenance": []
    },
    "kernelspec": {
      "name": "python3",
      "display_name": "Python 3"
    },
    "accelerator": "GPU"
  },
  "cells": [
    {
      "cell_type": "markdown",
      "metadata": {
        "id": "Bo2-jcK__d0K",
        "colab_type": "text"
      },
      "source": [
        "Descarga de las imagenes cat vs dog"
      ]
    },
    {
      "cell_type": "code",
      "metadata": {
        "id": "8z7fB_WO5g9g",
        "colab_type": "code",
        "outputId": "30c046e3-a5f1-4013-ddc7-314d49b13e0b",
        "colab": {
          "base_uri": "https://localhost:8080/",
          "height": 215
        }
      },
      "source": [
        "!wget --no-check-certificate \\\n",
        "  https://storage.googleapis.com/mledu-datasets/cats_and_dogs_filtered.zip \\\n",
        "  -O /tmp/cats_and_dogs_filtered.zip"
      ],
      "execution_count": 0,
      "outputs": [
        {
          "output_type": "stream",
          "text": [
            "--2019-07-04 18:29:08--  https://storage.googleapis.com/mledu-datasets/cats_and_dogs_filtered.zip\n",
            "Resolving storage.googleapis.com (storage.googleapis.com)... 74.125.140.128, 2a00:1450:400c:c00::80\n",
            "Connecting to storage.googleapis.com (storage.googleapis.com)|74.125.140.128|:443... connected.\n",
            "HTTP request sent, awaiting response... 200 OK\n",
            "Length: 68606236 (65M) [application/zip]\n",
            "Saving to: ‘/tmp/cats_and_dogs_filtered.zip’\n",
            "\n",
            "\r          /tmp/cats   0%[                    ]       0  --.-KB/s               \r         /tmp/cats_  16%[==>                 ]  10.83M  54.1MB/s               \r        /tmp/cats_a  92%[=================>  ]  60.28M   151MB/s               \r/tmp/cats_and_dogs_ 100%[===================>]  65.43M   156MB/s    in 0.4s    \n",
            "\n",
            "2019-07-04 18:29:09 (156 MB/s) - ‘/tmp/cats_and_dogs_filtered.zip’ saved [68606236/68606236]\n",
            "\n"
          ],
          "name": "stdout"
        }
      ]
    },
    {
      "cell_type": "markdown",
      "metadata": {
        "id": "R5j6fLkdPsul",
        "colab_type": "text"
      },
      "source": [
        "Extrayendo las imagenes\n"
      ]
    },
    {
      "cell_type": "code",
      "metadata": {
        "id": "Nch_qjrq_sQh",
        "colab_type": "code",
        "colab": {}
      },
      "source": [
        "import os\n",
        "import zipfile\n",
        "\n",
        "local_zip = '/tmp/cats_and_dogs_filtered.zip'\n",
        "\n",
        "zip_ref = zipfile.ZipFile(local_zip, 'r')\n",
        "\n",
        "zip_ref.extractall('/tmp')\n",
        "zip_ref.close()"
      ],
      "execution_count": 0,
      "outputs": []
    },
    {
      "cell_type": "markdown",
      "metadata": {
        "id": "qAontJ8b_2qw",
        "colab_type": "text"
      },
      "source": [
        "Definiendo los directorios de entrenamiento y validacion"
      ]
    },
    {
      "cell_type": "code",
      "metadata": {
        "id": "JWEtnj7eAACv",
        "colab_type": "code",
        "colab": {}
      },
      "source": [
        "base_dir = '/tmp/cats_and_dogs_filtered'\n",
        "\n",
        "train_dir = os.path.join(base_dir, 'train')\n",
        "validation_dir = os.path.join(base_dir, 'validation')\n",
        "\n",
        "# Directory with our training cat/dog pictures\n",
        "train_cats_dir = os.path.join(train_dir, 'cats')\n",
        "train_dogs_dir = os.path.join(train_dir, 'dogs')\n",
        "\n",
        "# Directory with our validation cat/dog pictures\n",
        "validation_cats_dir = os.path.join(validation_dir, 'cats')\n",
        "validation_dogs_dir = os.path.join(validation_dir, 'dogs')\n"
      ],
      "execution_count": 0,
      "outputs": []
    },
    {
      "cell_type": "markdown",
      "metadata": {
        "id": "tEJHTx4OAMn5",
        "colab_type": "text"
      },
      "source": [
        "Imprimiendo la cantidad de imagenes del dataset de entrenamiento y validacion"
      ]
    },
    {
      "cell_type": "code",
      "metadata": {
        "id": "IfQGtIorAQAf",
        "colab_type": "code",
        "outputId": "517a0326-769c-47f0-f702-2d2b4ebac94a",
        "colab": {
          "base_uri": "https://localhost:8080/",
          "height": 89
        }
      },
      "source": [
        "print('total training cat images :', len(os.listdir(      train_cats_dir ) ))\n",
        "print('total training dog images :', len(os.listdir(      train_dogs_dir ) ))\n",
        "\n",
        "print('total validation cat images :', len(os.listdir( validation_cats_dir ) ))\n",
        "print('total validation dog images :', len(os.listdir( validation_dogs_dir ) ))"
      ],
      "execution_count": 0,
      "outputs": [
        {
          "output_type": "stream",
          "text": [
            "total training cat images : 1000\n",
            "total training dog images : 1000\n",
            "total validation cat images : 500\n",
            "total validation dog images : 500\n"
          ],
          "name": "stdout"
        }
      ]
    },
    {
      "cell_type": "markdown",
      "metadata": {
        "id": "m1dPkJryBADH",
        "colab_type": "text"
      },
      "source": [
        "Generacion de la ConvNet"
      ]
    },
    {
      "cell_type": "code",
      "metadata": {
        "id": "XBc279WJA-1f",
        "colab_type": "code",
        "outputId": "ce988072-d74a-47c7-ac70-4e55ee6cb639",
        "colab": {
          "base_uri": "https://localhost:8080/",
          "height": 109
        }
      },
      "source": [
        "import tensorflow as tf\n",
        "model = tf.keras.models.Sequential([\n",
        "    # Note the input shape is the desired size of the image 150x150 with 3 bytes color\n",
        "    tf.keras.layers.Conv2D(16, (3,3), activation='relu', input_shape=(150, 150, 3)),\n",
        "    tf.keras.layers.MaxPooling2D(2,2),\n",
        "    tf.keras.layers.Conv2D(32, (3,3), activation='relu'),\n",
        "    tf.keras.layers.MaxPooling2D(2,2), \n",
        "    tf.keras.layers.Conv2D(64, (3,3), activation='relu'), \n",
        "    tf.keras.layers.MaxPooling2D(2,2),\n",
        "    # Flatten the results to feed into a DNN\n",
        "    tf.keras.layers.Flatten(), \n",
        "    # 512 neuron hidden layer\n",
        "    tf.keras.layers.Dense(512, activation='relu'), \n",
        "    # Only 1 output neuron. It will contain a value from 0-1 where 0 for 1 class ('cats') and 1 for the other ('dogs')\n",
        "    tf.keras.layers.Dropout(0.3),\n",
        "    tf.keras.layers.Dense(1, activation='sigmoid')  \n",
        "])"
      ],
      "execution_count": 0,
      "outputs": [
        {
          "output_type": "stream",
          "text": [
            "WARNING: Logging before flag parsing goes to stderr.\n",
            "W0704 18:29:13.311849 139774971058048 deprecation.py:506] From /usr/local/lib/python3.6/dist-packages/tensorflow/python/ops/init_ops.py:1251: calling VarianceScaling.__init__ (from tensorflow.python.ops.init_ops) with dtype is deprecated and will be removed in a future version.\n",
            "Instructions for updating:\n",
            "Call initializer instance with the dtype argument instead of passing it to the constructor\n"
          ],
          "name": "stderr"
        }
      ]
    },
    {
      "cell_type": "code",
      "metadata": {
        "id": "G88OBmEXBrsm",
        "colab_type": "code",
        "outputId": "48e4414b-6a8d-4e28-f4b2-b89d06d9c8c4",
        "colab": {
          "base_uri": "https://localhost:8080/",
          "height": 521
        }
      },
      "source": [
        "model.summary()"
      ],
      "execution_count": 0,
      "outputs": [
        {
          "output_type": "stream",
          "text": [
            "Model: \"sequential\"\n",
            "_________________________________________________________________\n",
            "Layer (type)                 Output Shape              Param #   \n",
            "=================================================================\n",
            "conv2d (Conv2D)              (None, 148, 148, 16)      448       \n",
            "_________________________________________________________________\n",
            "max_pooling2d (MaxPooling2D) (None, 74, 74, 16)        0         \n",
            "_________________________________________________________________\n",
            "conv2d_1 (Conv2D)            (None, 72, 72, 32)        4640      \n",
            "_________________________________________________________________\n",
            "max_pooling2d_1 (MaxPooling2 (None, 36, 36, 32)        0         \n",
            "_________________________________________________________________\n",
            "conv2d_2 (Conv2D)            (None, 34, 34, 64)        18496     \n",
            "_________________________________________________________________\n",
            "max_pooling2d_2 (MaxPooling2 (None, 17, 17, 64)        0         \n",
            "_________________________________________________________________\n",
            "flatten (Flatten)            (None, 18496)             0         \n",
            "_________________________________________________________________\n",
            "dense (Dense)                (None, 512)               9470464   \n",
            "_________________________________________________________________\n",
            "dropout (Dropout)            (None, 512)               0         \n",
            "_________________________________________________________________\n",
            "dense_1 (Dense)              (None, 1)                 513       \n",
            "=================================================================\n",
            "Total params: 9,494,561\n",
            "Trainable params: 9,494,561\n",
            "Non-trainable params: 0\n",
            "_________________________________________________________________\n"
          ],
          "name": "stdout"
        }
      ]
    },
    {
      "cell_type": "markdown",
      "metadata": {
        "id": "HCVi5z4EBw15",
        "colab_type": "text"
      },
      "source": [
        "Funcion de Perdida ...."
      ]
    },
    {
      "cell_type": "code",
      "metadata": {
        "id": "uo39eX7vB06Z",
        "colab_type": "code",
        "outputId": "e41ab9c8-be63-4dc4-e38d-3a2c3ccbca02",
        "colab": {
          "base_uri": "https://localhost:8080/",
          "height": 91
        }
      },
      "source": [
        "from tensorflow.keras.optimizers import RMSprop\n",
        "\n",
        "model.compile(optimizer=RMSprop(lr=0.001),\n",
        "              loss='binary_crossentropy',\n",
        "              metrics = ['acc'])"
      ],
      "execution_count": 0,
      "outputs": [
        {
          "output_type": "stream",
          "text": [
            "W0704 18:29:14.041079 139774971058048 deprecation.py:323] From /usr/local/lib/python3.6/dist-packages/tensorflow/python/ops/nn_impl.py:180: add_dispatch_support.<locals>.wrapper (from tensorflow.python.ops.array_ops) is deprecated and will be removed in a future version.\n",
            "Instructions for updating:\n",
            "Use tf.where in 2.0, which has the same broadcast rule as np.where\n"
          ],
          "name": "stderr"
        }
      ]
    },
    {
      "cell_type": "markdown",
      "metadata": {
        "id": "R69UpsLKCKh-",
        "colab_type": "text"
      },
      "source": [
        "## Preprocesamiento de datos"
      ]
    },
    {
      "cell_type": "code",
      "metadata": {
        "id": "G3rr1_M6CNMS",
        "colab_type": "code",
        "outputId": "6c9e85cc-4ae9-4bbb-c8fd-3e6b85fd7e08",
        "colab": {
          "base_uri": "https://localhost:8080/",
          "height": 53
        }
      },
      "source": [
        "from tensorflow.keras.preprocessing.image import ImageDataGenerator\n",
        "\n",
        "BATCH_SIZE = 20\n",
        "# All images will be rescaled by 1./255.\n",
        "train_datagen = ImageDataGenerator( rescale = 1.0/255. )\n",
        "test_datagen  = ImageDataGenerator( rescale = 1.0/255. )\n",
        "\n",
        "# --------------------\n",
        "# Flow training images in batches of 20 using train_datagen generator\n",
        "# --------------------\n",
        "train_generator = train_datagen.flow_from_directory(train_dir,\n",
        "                                                    batch_size=BATCH_SIZE,\n",
        "                                                    class_mode='binary',\n",
        "                                                    target_size=(150, 150))     \n",
        "# --------------------\n",
        "# Flow validation images in batches of 20 using test_datagen generator\n",
        "# --------------------\n",
        "validation_generator =  test_datagen.flow_from_directory(validation_dir,\n",
        "                                                         batch_size=BATCH_SIZE,\n",
        "                                                         class_mode  = 'binary',\n",
        "                                                         target_size = (150, 150))\n"
      ],
      "execution_count": 0,
      "outputs": [
        {
          "output_type": "stream",
          "text": [
            "Found 2000 images belonging to 2 classes.\n",
            "Found 1000 images belonging to 2 classes.\n"
          ],
          "name": "stdout"
        }
      ]
    },
    {
      "cell_type": "markdown",
      "metadata": {
        "id": "N0fs51qbDFyK",
        "colab_type": "text"
      },
      "source": [
        "### Entrenamienton sin data augmentation"
      ]
    },
    {
      "cell_type": "code",
      "metadata": {
        "id": "1FE4yiCuDIn8",
        "colab_type": "code",
        "outputId": "1d46be0b-c1d1-409e-c948-95f069248cc0",
        "colab": {
          "base_uri": "https://localhost:8080/",
          "height": 1000
        }
      },
      "source": [
        "history_1 = model.fit_generator(train_generator,\n",
        "                              validation_data=validation_generator,\n",
        "                              steps_per_epoch=100,\n",
        "                              epochs=100,\n",
        "                              validation_steps=50,\n",
        "                              verbose=2)"
      ],
      "execution_count": 0,
      "outputs": [
        {
          "output_type": "stream",
          "text": [
            "Epoch 1/100\n",
            "100/100 - 15s - loss: 0.8141 - acc: 0.5390 - val_loss: 0.6739 - val_acc: 0.5700\n",
            "Epoch 2/100\n",
            "100/100 - 11s - loss: 0.6486 - acc: 0.6500 - val_loss: 0.6033 - val_acc: 0.6830\n",
            "Epoch 3/100\n",
            "100/100 - 11s - loss: 0.5630 - acc: 0.7165 - val_loss: 0.6249 - val_acc: 0.6740\n",
            "Epoch 4/100\n",
            "100/100 - 11s - loss: 0.4832 - acc: 0.7665 - val_loss: 0.5797 - val_acc: 0.7160\n",
            "Epoch 5/100\n",
            "100/100 - 11s - loss: 0.3973 - acc: 0.8255 - val_loss: 0.5609 - val_acc: 0.7250\n",
            "Epoch 6/100\n",
            "100/100 - 11s - loss: 0.3176 - acc: 0.8685 - val_loss: 0.6334 - val_acc: 0.7180\n",
            "Epoch 7/100\n",
            "100/100 - 11s - loss: 0.2148 - acc: 0.9110 - val_loss: 0.6688 - val_acc: 0.7270\n",
            "Epoch 8/100\n",
            "100/100 - 11s - loss: 0.1688 - acc: 0.9345 - val_loss: 0.9733 - val_acc: 0.7070\n",
            "Epoch 9/100\n",
            "100/100 - 10s - loss: 0.1185 - acc: 0.9535 - val_loss: 1.1915 - val_acc: 0.6890\n",
            "Epoch 10/100\n",
            "100/100 - 11s - loss: 0.0878 - acc: 0.9720 - val_loss: 1.1078 - val_acc: 0.7240\n",
            "Epoch 11/100\n",
            "100/100 - 11s - loss: 0.0732 - acc: 0.9785 - val_loss: 1.3517 - val_acc: 0.7160\n",
            "Epoch 12/100\n",
            "100/100 - 11s - loss: 0.0451 - acc: 0.9850 - val_loss: 1.4333 - val_acc: 0.7300\n",
            "Epoch 13/100\n",
            "100/100 - 10s - loss: 0.0533 - acc: 0.9860 - val_loss: 1.6944 - val_acc: 0.7130\n",
            "Epoch 14/100\n",
            "100/100 - 10s - loss: 0.0455 - acc: 0.9900 - val_loss: 1.7598 - val_acc: 0.7320\n",
            "Epoch 15/100\n",
            "100/100 - 11s - loss: 0.0380 - acc: 0.9890 - val_loss: 2.0516 - val_acc: 0.7210\n",
            "Epoch 16/100\n",
            "100/100 - 10s - loss: 0.0368 - acc: 0.9865 - val_loss: 1.9896 - val_acc: 0.7190\n",
            "Epoch 17/100\n",
            "100/100 - 10s - loss: 0.0345 - acc: 0.9900 - val_loss: 2.0442 - val_acc: 0.6990\n",
            "Epoch 18/100\n",
            "100/100 - 10s - loss: 0.0259 - acc: 0.9935 - val_loss: 2.2215 - val_acc: 0.7130\n",
            "Epoch 19/100\n",
            "100/100 - 10s - loss: 0.0220 - acc: 0.9925 - val_loss: 2.3412 - val_acc: 0.7240\n",
            "Epoch 20/100\n",
            "100/100 - 10s - loss: 0.0275 - acc: 0.9925 - val_loss: 2.3567 - val_acc: 0.7020\n",
            "Epoch 21/100\n",
            "100/100 - 10s - loss: 0.0707 - acc: 0.9915 - val_loss: 2.5993 - val_acc: 0.7200\n",
            "Epoch 22/100\n",
            "100/100 - 10s - loss: 0.0246 - acc: 0.9955 - val_loss: 2.5554 - val_acc: 0.7320\n",
            "Epoch 23/100\n",
            "100/100 - 10s - loss: 0.0530 - acc: 0.9890 - val_loss: 2.6596 - val_acc: 0.7160\n",
            "Epoch 24/100\n",
            "100/100 - 11s - loss: 0.0285 - acc: 0.9925 - val_loss: 3.0540 - val_acc: 0.6900\n",
            "Epoch 25/100\n",
            "100/100 - 10s - loss: 0.0222 - acc: 0.9955 - val_loss: 2.8133 - val_acc: 0.7100\n",
            "Epoch 26/100\n",
            "100/100 - 10s - loss: 0.0173 - acc: 0.9955 - val_loss: 3.0304 - val_acc: 0.7210\n",
            "Epoch 27/100\n",
            "100/100 - 10s - loss: 0.0139 - acc: 0.9965 - val_loss: 3.1877 - val_acc: 0.7100\n",
            "Epoch 28/100\n",
            "100/100 - 11s - loss: 0.0248 - acc: 0.9925 - val_loss: 2.6066 - val_acc: 0.7000\n",
            "Epoch 29/100\n",
            "100/100 - 10s - loss: 0.0096 - acc: 0.9965 - val_loss: 3.0692 - val_acc: 0.7070\n",
            "Epoch 30/100\n",
            "100/100 - 10s - loss: 0.0108 - acc: 0.9965 - val_loss: 4.7659 - val_acc: 0.6450\n",
            "Epoch 31/100\n",
            "100/100 - 11s - loss: 0.0481 - acc: 0.9925 - val_loss: 2.9816 - val_acc: 0.6860\n",
            "Epoch 32/100\n",
            "100/100 - 11s - loss: 0.0082 - acc: 0.9975 - val_loss: 4.2153 - val_acc: 0.6980\n",
            "Epoch 33/100\n",
            "100/100 - 11s - loss: 0.0165 - acc: 0.9950 - val_loss: 3.8191 - val_acc: 0.7130\n",
            "Epoch 34/100\n",
            "100/100 - 11s - loss: 0.0498 - acc: 0.9940 - val_loss: 3.6176 - val_acc: 0.7180\n",
            "Epoch 35/100\n",
            "100/100 - 10s - loss: 0.0224 - acc: 0.9970 - val_loss: 3.4717 - val_acc: 0.7080\n",
            "Epoch 36/100\n",
            "100/100 - 11s - loss: 0.0159 - acc: 0.9970 - val_loss: 4.0074 - val_acc: 0.7040\n",
            "Epoch 37/100\n",
            "100/100 - 11s - loss: 0.0203 - acc: 0.9955 - val_loss: 3.5121 - val_acc: 0.7190\n",
            "Epoch 38/100\n",
            "100/100 - 11s - loss: 0.0284 - acc: 0.9980 - val_loss: 4.6718 - val_acc: 0.6720\n",
            "Epoch 39/100\n",
            "100/100 - 10s - loss: 0.0102 - acc: 0.9975 - val_loss: 4.0013 - val_acc: 0.6870\n",
            "Epoch 40/100\n",
            "100/100 - 10s - loss: 0.0118 - acc: 0.9975 - val_loss: 4.7282 - val_acc: 0.7150\n",
            "Epoch 41/100\n",
            "100/100 - 10s - loss: 0.0221 - acc: 0.9965 - val_loss: 5.3523 - val_acc: 0.6760\n",
            "Epoch 42/100\n",
            "100/100 - 10s - loss: 0.0432 - acc: 0.9920 - val_loss: 3.9120 - val_acc: 0.7280\n",
            "Epoch 43/100\n",
            "100/100 - 10s - loss: 0.0126 - acc: 0.9970 - val_loss: 4.2695 - val_acc: 0.6930\n",
            "Epoch 44/100\n",
            "100/100 - 10s - loss: 0.0028 - acc: 0.9980 - val_loss: 4.1989 - val_acc: 0.6920\n",
            "Epoch 45/100\n",
            "100/100 - 10s - loss: 0.0108 - acc: 0.9980 - val_loss: 4.5764 - val_acc: 0.7060\n",
            "Epoch 46/100\n",
            "100/100 - 10s - loss: 0.0280 - acc: 0.9965 - val_loss: 5.0321 - val_acc: 0.7150\n",
            "Epoch 47/100\n",
            "100/100 - 10s - loss: 0.0032 - acc: 0.9985 - val_loss: 6.0923 - val_acc: 0.6940\n",
            "Epoch 48/100\n",
            "100/100 - 10s - loss: 0.0032 - acc: 0.9985 - val_loss: 5.7332 - val_acc: 0.6910\n",
            "Epoch 49/100\n",
            "100/100 - 10s - loss: 0.0263 - acc: 0.9955 - val_loss: 6.6090 - val_acc: 0.7000\n",
            "Epoch 50/100\n",
            "100/100 - 10s - loss: 0.0299 - acc: 0.9935 - val_loss: 6.4600 - val_acc: 0.6880\n",
            "Epoch 51/100\n",
            "100/100 - 10s - loss: 0.0185 - acc: 0.9955 - val_loss: 5.1843 - val_acc: 0.6730\n",
            "Epoch 52/100\n",
            "100/100 - 10s - loss: 0.0541 - acc: 0.9925 - val_loss: 5.1537 - val_acc: 0.6870\n",
            "Epoch 53/100\n",
            "100/100 - 10s - loss: 0.0084 - acc: 0.9970 - val_loss: 4.9696 - val_acc: 0.6780\n",
            "Epoch 54/100\n",
            "100/100 - 10s - loss: 0.0062 - acc: 0.9990 - val_loss: 5.4205 - val_acc: 0.6990\n",
            "Epoch 55/100\n",
            "100/100 - 10s - loss: 0.0066 - acc: 0.9965 - val_loss: 6.0582 - val_acc: 0.6890\n",
            "Epoch 56/100\n",
            "100/100 - 10s - loss: 0.0130 - acc: 0.9980 - val_loss: 6.4896 - val_acc: 0.6930\n",
            "Epoch 57/100\n",
            "100/100 - 10s - loss: 0.0143 - acc: 0.9965 - val_loss: 6.1727 - val_acc: 0.6930\n",
            "Epoch 58/100\n",
            "100/100 - 10s - loss: 0.0319 - acc: 0.9975 - val_loss: 5.2446 - val_acc: 0.7050\n",
            "Epoch 59/100\n",
            "100/100 - 10s - loss: 0.0199 - acc: 0.9950 - val_loss: 5.7797 - val_acc: 0.7140\n",
            "Epoch 60/100\n",
            "100/100 - 10s - loss: 0.0198 - acc: 0.9990 - val_loss: 5.6424 - val_acc: 0.7180\n",
            "Epoch 61/100\n",
            "100/100 - 10s - loss: 1.3339e-06 - acc: 1.0000 - val_loss: 5.3491 - val_acc: 0.7020\n",
            "Epoch 62/100\n",
            "100/100 - 10s - loss: 0.0236 - acc: 0.9980 - val_loss: 5.8930 - val_acc: 0.7140\n",
            "Epoch 63/100\n",
            "100/100 - 11s - loss: 0.0071 - acc: 0.9980 - val_loss: 6.0205 - val_acc: 0.7050\n",
            "Epoch 64/100\n",
            "100/100 - 10s - loss: 0.0046 - acc: 0.9985 - val_loss: 5.8166 - val_acc: 0.6940\n",
            "Epoch 65/100\n",
            "100/100 - 10s - loss: 0.0012 - acc: 0.9995 - val_loss: 5.9778 - val_acc: 0.6950\n",
            "Epoch 66/100\n",
            "100/100 - 10s - loss: 0.0189 - acc: 0.9975 - val_loss: 6.7299 - val_acc: 0.7130\n",
            "Epoch 67/100\n",
            "100/100 - 11s - loss: 0.0143 - acc: 0.9975 - val_loss: 7.0709 - val_acc: 0.7040\n",
            "Epoch 68/100\n",
            "100/100 - 10s - loss: 0.0101 - acc: 0.9985 - val_loss: 6.2191 - val_acc: 0.7050\n",
            "Epoch 69/100\n",
            "100/100 - 10s - loss: 0.0119 - acc: 0.9985 - val_loss: 6.5838 - val_acc: 0.6900\n",
            "Epoch 70/100\n",
            "100/100 - 10s - loss: 3.4943e-05 - acc: 1.0000 - val_loss: 7.3964 - val_acc: 0.6960\n",
            "Epoch 71/100\n",
            "100/100 - 10s - loss: 0.0194 - acc: 0.9960 - val_loss: 7.8492 - val_acc: 0.6850\n",
            "Epoch 72/100\n",
            "100/100 - 10s - loss: 0.0057 - acc: 0.9990 - val_loss: 6.1027 - val_acc: 0.7100\n",
            "Epoch 73/100\n",
            "100/100 - 10s - loss: 0.0194 - acc: 0.9990 - val_loss: 6.7295 - val_acc: 0.7050\n",
            "Epoch 74/100\n",
            "100/100 - 10s - loss: 0.0193 - acc: 0.9980 - val_loss: 6.7771 - val_acc: 0.7190\n",
            "Epoch 75/100\n",
            "100/100 - 10s - loss: 0.0156 - acc: 0.9965 - val_loss: 6.7378 - val_acc: 0.6750\n",
            "Epoch 76/100\n",
            "100/100 - 10s - loss: 0.0100 - acc: 0.9990 - val_loss: 7.1196 - val_acc: 0.6940\n",
            "Epoch 77/100\n",
            "100/100 - 10s - loss: 0.0012 - acc: 0.9990 - val_loss: 7.2558 - val_acc: 0.7000\n",
            "Epoch 78/100\n",
            "100/100 - 10s - loss: 0.0090 - acc: 0.9980 - val_loss: 8.7043 - val_acc: 0.7040\n",
            "Epoch 79/100\n",
            "100/100 - 10s - loss: 0.0144 - acc: 0.9965 - val_loss: 7.5587 - val_acc: 0.7090\n",
            "Epoch 80/100\n",
            "100/100 - 10s - loss: 0.0043 - acc: 0.9990 - val_loss: 9.9659 - val_acc: 0.6620\n",
            "Epoch 81/100\n",
            "100/100 - 10s - loss: 0.0070 - acc: 0.9990 - val_loss: 7.0654 - val_acc: 0.7080\n",
            "Epoch 82/100\n",
            "100/100 - 10s - loss: 0.0055 - acc: 0.9995 - val_loss: 7.4876 - val_acc: 0.7100\n",
            "Epoch 83/100\n",
            "100/100 - 10s - loss: 0.0090 - acc: 0.9980 - val_loss: 7.5093 - val_acc: 0.7010\n",
            "Epoch 84/100\n",
            "100/100 - 10s - loss: 2.9967e-06 - acc: 1.0000 - val_loss: 7.1611 - val_acc: 0.7050\n",
            "Epoch 85/100\n",
            "100/100 - 10s - loss: 4.8202e-05 - acc: 1.0000 - val_loss: 7.4836 - val_acc: 0.6900\n",
            "Epoch 86/100\n",
            "100/100 - 11s - loss: 1.8395e-06 - acc: 1.0000 - val_loss: 7.9640 - val_acc: 0.6980\n",
            "Epoch 87/100\n",
            "100/100 - 11s - loss: 0.0012 - acc: 0.9995 - val_loss: 10.7443 - val_acc: 0.6500\n",
            "Epoch 88/100\n",
            "100/100 - 10s - loss: 6.5077e-05 - acc: 1.0000 - val_loss: 8.3292 - val_acc: 0.6960\n",
            "Epoch 89/100\n",
            "100/100 - 10s - loss: 3.3793e-09 - acc: 1.0000 - val_loss: 8.3467 - val_acc: 0.6950\n",
            "Epoch 90/100\n",
            "100/100 - 10s - loss: 2.3907e-09 - acc: 1.0000 - val_loss: 8.4498 - val_acc: 0.6960\n",
            "Epoch 91/100\n",
            "100/100 - 11s - loss: 2.7781e-10 - acc: 1.0000 - val_loss: 8.4693 - val_acc: 0.7060\n",
            "Epoch 92/100\n",
            "100/100 - 11s - loss: 0.0060 - acc: 0.9980 - val_loss: 7.8497 - val_acc: 0.7230\n",
            "Epoch 93/100\n",
            "100/100 - 10s - loss: 1.1386e-05 - acc: 1.0000 - val_loss: 8.5082 - val_acc: 0.7140\n",
            "Epoch 94/100\n",
            "100/100 - 10s - loss: 0.0144 - acc: 0.9985 - val_loss: 8.2929 - val_acc: 0.7050\n",
            "Epoch 95/100\n",
            "100/100 - 10s - loss: 7.3679e-08 - acc: 1.0000 - val_loss: 7.8980 - val_acc: 0.7050\n",
            "Epoch 96/100\n",
            "100/100 - 10s - loss: 0.0149 - acc: 0.9980 - val_loss: 8.7745 - val_acc: 0.6770\n",
            "Epoch 97/100\n",
            "100/100 - 10s - loss: 0.0156 - acc: 0.9985 - val_loss: 8.0163 - val_acc: 0.6890\n",
            "Epoch 98/100\n",
            "100/100 - 10s - loss: 2.8452e-04 - acc: 1.0000 - val_loss: 7.7734 - val_acc: 0.6770\n",
            "Epoch 99/100\n",
            "100/100 - 10s - loss: 0.0048 - acc: 0.9985 - val_loss: 9.7267 - val_acc: 0.7060\n",
            "Epoch 100/100\n",
            "100/100 - 10s - loss: 0.0107 - acc: 0.9975 - val_loss: 8.7162 - val_acc: 0.7050\n"
          ],
          "name": "stdout"
        }
      ]
    },
    {
      "cell_type": "markdown",
      "metadata": {
        "id": "yeoYWlfPHcDm",
        "colab_type": "text"
      },
      "source": [
        "### Evaluacion del modelo\n"
      ]
    },
    {
      "cell_type": "code",
      "metadata": {
        "id": "s4WFgvNJHeqn",
        "colab_type": "code",
        "outputId": "e3d500ba-e53b-4963-f9f5-ec788d3e0858",
        "colab": {
          "base_uri": "https://localhost:8080/",
          "height": 71
        }
      },
      "source": [
        "model_loss, model_acc = model.evaluate_generator(generator=validation_generator, \n",
        "                         steps= validation_generator.n // BATCH_SIZE,\n",
        "                         verbose=1)\n",
        "\n",
        "print('model loss is {} \\nmodel acc is {}'.format(model_loss, model_acc))"
      ],
      "execution_count": 0,
      "outputs": [
        {
          "output_type": "stream",
          "text": [
            "50/50 [==============================] - 4s 72ms/step - loss: 8.7162 - acc: 0.7050\n",
            "model loss is 8.716220571994782 \n",
            "model acc is 0.7049999833106995\n"
          ],
          "name": "stdout"
        }
      ]
    },
    {
      "cell_type": "markdown",
      "metadata": {
        "id": "_2IG1dUNDyK9",
        "colab_type": "text"
      },
      "source": [
        "### Ploteando el entrenamiento"
      ]
    },
    {
      "cell_type": "code",
      "metadata": {
        "id": "1A3KaExkD0rR",
        "colab_type": "code",
        "outputId": "538dc577-f55c-4517-d69f-5705d30b045f",
        "colab": {
          "base_uri": "https://localhost:8080/",
          "height": 563
        }
      },
      "source": [
        "import matplotlib.pyplot as plt\n",
        "acc = history_1.history['acc']\n",
        "val_acc = history_1.history['val_acc']\n",
        "loss = history_1.history['loss']\n",
        "val_loss = history_1.history['val_acc']\n",
        "\n",
        "epochs = range(len(acc))\n",
        "\n",
        "plt.plot(epochs, acc, 'r', label='Training Accuracy')\n",
        "plt.plot(epochs, val_acc, 'b', label='Validation Accuracy')\n",
        "plt.title('Training and validation accuracy')\n",
        "plt.legend(loc=0)\n",
        "plt.figure()\n",
        "\n",
        "plt.plot(epochs, loss, 'r', label='Training Loss')\n",
        "plt.plot(epochs, val_loss, 'b', label='Validation Loss')\n",
        "plt.title('Training and validation loss curve')\n",
        "plt.legend(loc=0)\n",
        "plt.figure()\n",
        "\n",
        "\n",
        "\n",
        "\n",
        "plt.show()\n",
        "\n"
      ],
      "execution_count": 0,
      "outputs": [
        {
          "output_type": "display_data",
          "data": {
            "image/png": "[encoded data removed]",
            "text/plain": [
              "<Figure size 432x288 with 1 Axes>"
            ]
          },
          "metadata": {
            "tags": []
          }
        },
        {
          "output_type": "display_data",
          "data": {
            "image/png": "[encoded data removed]",
            "text/plain": [
              "<Figure size 432x288 with 1 Axes>"
            ]
          },
          "metadata": {
            "tags": []
          }
        },
        {
          "output_type": "display_data",
          "data": {
            "text/plain": [
              "<Figure size 432x288 with 0 Axes>"
            ]
          },
          "metadata": {
            "tags": []
          }
        }
      ]
    },
    {
      "cell_type": "markdown",
      "metadata": {
        "id": "uFUGoAYOIiJy",
        "colab_type": "text"
      },
      "source": [
        "## Utilizando Data Augmentation"
      ]
    },
    {
      "cell_type": "code",
      "metadata": {
        "id": "jSa6MkJ1Ikbl",
        "colab_type": "code",
        "outputId": "002ce9eb-62e3-437a-bb72-3e223f1c32a9",
        "colab": {
          "base_uri": "https://localhost:8080/",
          "height": 35
        }
      },
      "source": [
        "from tensorflow.keras.preprocessing.image import ImageDataGenerator\n",
        "BATCH_SIZE = 20\n",
        "# All images will be rescaled by 1./255.\n",
        "train_datagen_aug = ImageDataGenerator( rescale = 1.0/255.,\n",
        "                                    rotation_range = 40,\n",
        "                                    width_shift_range = 0.2,\n",
        "                                    height_shift_range = 0.2,\n",
        "                                    shear_range = 0.2,\n",
        "                                    zoom_range = 0.2,\n",
        "                                    horizontal_flip = True,\n",
        "                                    vertical_flip = True)\n",
        "\n",
        "\n",
        "# --------------------\n",
        "# Flow training images in batches of 20 using train_datagen generator\n",
        "# --------------------\n",
        "train_generator_aug = train_datagen_aug.flow_from_directory(train_dir,\n",
        "                                                    batch_size=BATCH_SIZE,\n",
        "                                                    class_mode='binary',\n",
        "                                                    target_size=(150, 150))     \n"
      ],
      "execution_count": 0,
      "outputs": [
        {
          "output_type": "stream",
          "text": [
            "Found 2000 images belonging to 2 classes.\n"
          ],
          "name": "stdout"
        }
      ]
    },
    {
      "cell_type": "code",
      "metadata": {
        "id": "AwcEnL2mJdDb",
        "colab_type": "code",
        "outputId": "33d49ebf-c761-4003-d861-f8348a7b0da0",
        "colab": {
          "base_uri": "https://localhost:8080/",
          "height": 1000
        }
      },
      "source": [
        "history_2 = model.fit_generator(train_generator_aug,\n",
        "                              validation_data=validation_generator,\n",
        "                              steps_per_epoch=100,\n",
        "                              epochs=100,\n",
        "                              validation_steps=50,\n",
        "                              verbose=2)"
      ],
      "execution_count": 0,
      "outputs": [
        {
          "output_type": "stream",
          "text": [
            "Epoch 1/100\n",
            "100/100 - 23s - loss: 1.4969 - acc: 0.5510 - val_loss: 0.6310 - val_acc: 0.6500\n",
            "Epoch 2/100\n",
            "100/100 - 21s - loss: 0.6853 - acc: 0.6125 - val_loss: 0.6449 - val_acc: 0.6740\n",
            "Epoch 3/100\n",
            "100/100 - 20s - loss: 0.6704 - acc: 0.6165 - val_loss: 0.5752 - val_acc: 0.6970\n",
            "Epoch 4/100\n",
            "100/100 - 20s - loss: 0.6457 - acc: 0.6400 - val_loss: 0.5917 - val_acc: 0.6980\n",
            "Epoch 5/100\n",
            "100/100 - 21s - loss: 0.6657 - acc: 0.6540 - val_loss: 0.5854 - val_acc: 0.6780\n",
            "Epoch 6/100\n",
            "100/100 - 20s - loss: 0.6341 - acc: 0.6675 - val_loss: 0.5570 - val_acc: 0.7180\n",
            "Epoch 7/100\n",
            "100/100 - 21s - loss: 0.6299 - acc: 0.6575 - val_loss: 0.5914 - val_acc: 0.6830\n",
            "Epoch 8/100\n",
            "100/100 - 21s - loss: 0.6414 - acc: 0.6430 - val_loss: 0.6131 - val_acc: 0.6650\n",
            "Epoch 9/100\n",
            "100/100 - 21s - loss: 0.6470 - acc: 0.6790 - val_loss: 0.5749 - val_acc: 0.6940\n",
            "Epoch 10/100\n",
            "100/100 - 20s - loss: 0.6175 - acc: 0.6780 - val_loss: 0.5787 - val_acc: 0.6930\n",
            "Epoch 11/100\n",
            "100/100 - 21s - loss: 0.6296 - acc: 0.6565 - val_loss: 0.5688 - val_acc: 0.7060\n",
            "Epoch 12/100\n",
            "100/100 - 20s - loss: 0.6159 - acc: 0.6740 - val_loss: 0.5723 - val_acc: 0.6930\n",
            "Epoch 13/100\n",
            "100/100 - 20s - loss: 0.6271 - acc: 0.6670 - val_loss: 0.5747 - val_acc: 0.6880\n",
            "Epoch 14/100\n",
            "100/100 - 21s - loss: 0.6305 - acc: 0.6545 - val_loss: 0.5785 - val_acc: 0.7140\n",
            "Epoch 15/100\n",
            "100/100 - 21s - loss: 0.6189 - acc: 0.6675 - val_loss: 0.5704 - val_acc: 0.7080\n",
            "Epoch 16/100\n",
            "100/100 - 21s - loss: 0.6024 - acc: 0.6825 - val_loss: 0.5379 - val_acc: 0.7320\n",
            "Epoch 17/100\n",
            "100/100 - 21s - loss: 0.6335 - acc: 0.6750 - val_loss: 0.5563 - val_acc: 0.7170\n",
            "Epoch 18/100\n",
            "100/100 - 21s - loss: 0.6085 - acc: 0.6945 - val_loss: 0.5634 - val_acc: 0.7210\n",
            "Epoch 19/100\n",
            "100/100 - 21s - loss: 0.6412 - acc: 0.7005 - val_loss: 0.5543 - val_acc: 0.7220\n",
            "Epoch 20/100\n",
            "100/100 - 21s - loss: 0.5980 - acc: 0.6855 - val_loss: 0.5602 - val_acc: 0.7080\n",
            "Epoch 21/100\n",
            "100/100 - 21s - loss: 0.6038 - acc: 0.6835 - val_loss: 0.5432 - val_acc: 0.7270\n",
            "Epoch 22/100\n",
            "100/100 - 20s - loss: 0.5930 - acc: 0.7000 - val_loss: 0.5310 - val_acc: 0.7500\n",
            "Epoch 23/100\n",
            "100/100 - 21s - loss: 0.6301 - acc: 0.6980 - val_loss: 0.5302 - val_acc: 0.7440\n",
            "Epoch 24/100\n",
            "100/100 - 20s - loss: 0.5953 - acc: 0.6860 - val_loss: 0.5689 - val_acc: 0.7320\n",
            "Epoch 25/100\n",
            "100/100 - 21s - loss: 0.5926 - acc: 0.6990 - val_loss: 0.5488 - val_acc: 0.7220\n",
            "Epoch 26/100\n",
            "100/100 - 21s - loss: 0.6071 - acc: 0.6865 - val_loss: 0.5548 - val_acc: 0.7270\n",
            "Epoch 27/100\n",
            "100/100 - 20s - loss: 0.6026 - acc: 0.7025 - val_loss: 0.5387 - val_acc: 0.7320\n",
            "Epoch 28/100\n",
            "100/100 - 20s - loss: 0.5847 - acc: 0.6975 - val_loss: 0.5430 - val_acc: 0.7320\n",
            "Epoch 29/100\n",
            "Epoch 30/100\n",
            "100/100 - 21s - loss: 0.6126 - acc: 0.7070 - val_loss: 0.5575 - val_acc: 0.7120\n",
            "Epoch 31/100\n",
            "100/100 - 20s - loss: 0.5776 - acc: 0.6990 - val_loss: 0.5706 - val_acc: 0.7230\n",
            "Epoch 32/100\n",
            "100/100 - 21s - loss: 0.6027 - acc: 0.6875 - val_loss: 0.5507 - val_acc: 0.7160\n",
            "Epoch 33/100\n",
            "100/100 - 21s - loss: 0.5894 - acc: 0.7060 - val_loss: 0.5658 - val_acc: 0.7010\n",
            "Epoch 34/100\n",
            "100/100 - 20s - loss: 0.5637 - acc: 0.7190 - val_loss: 0.5295 - val_acc: 0.7320\n",
            "Epoch 35/100\n",
            "100/100 - 20s - loss: 0.5967 - acc: 0.7005 - val_loss: 0.5164 - val_acc: 0.7470\n",
            "Epoch 36/100\n",
            "100/100 - 20s - loss: 0.5806 - acc: 0.7110 - val_loss: 0.7460 - val_acc: 0.6420\n",
            "Epoch 37/100\n",
            "100/100 - 20s - loss: 0.5854 - acc: 0.6990 - val_loss: 0.5112 - val_acc: 0.7530\n",
            "Epoch 38/100\n",
            "100/100 - 20s - loss: 0.5773 - acc: 0.7105 - val_loss: 0.5570 - val_acc: 0.7310\n",
            "Epoch 39/100\n",
            "100/100 - 21s - loss: 0.5732 - acc: 0.7060 - val_loss: 0.5261 - val_acc: 0.7340\n",
            "Epoch 40/100\n",
            "100/100 - 21s - loss: 0.5858 - acc: 0.7090 - val_loss: 0.5221 - val_acc: 0.7470\n",
            "Epoch 41/100\n",
            "100/100 - 21s - loss: 0.5606 - acc: 0.7235 - val_loss: 0.5544 - val_acc: 0.7430\n",
            "Epoch 42/100\n",
            "100/100 - 21s - loss: 0.5660 - acc: 0.7140 - val_loss: 0.5236 - val_acc: 0.7400\n",
            "Epoch 43/100\n",
            "100/100 - 21s - loss: 0.5642 - acc: 0.7105 - val_loss: 0.5281 - val_acc: 0.7250\n",
            "Epoch 44/100\n",
            "100/100 - 21s - loss: 0.5549 - acc: 0.7285 - val_loss: 0.5285 - val_acc: 0.7490\n",
            "Epoch 45/100\n",
            "100/100 - 20s - loss: 0.5666 - acc: 0.7175 - val_loss: 0.5358 - val_acc: 0.7170\n",
            "Epoch 46/100\n",
            "100/100 - 21s - loss: 0.5855 - acc: 0.7075 - val_loss: 0.5311 - val_acc: 0.7300\n",
            "Epoch 47/100\n",
            "100/100 - 21s - loss: 0.5488 - acc: 0.7200 - val_loss: 0.5653 - val_acc: 0.6950\n",
            "Epoch 48/100\n",
            "100/100 - 21s - loss: 0.5698 - acc: 0.7225 - val_loss: 0.5202 - val_acc: 0.7400\n",
            "Epoch 49/100\n",
            "100/100 - 21s - loss: 0.5597 - acc: 0.7120 - val_loss: 0.5763 - val_acc: 0.7330\n",
            "Epoch 50/100\n",
            "100/100 - 21s - loss: 0.5705 - acc: 0.7245 - val_loss: 0.5122 - val_acc: 0.7480\n",
            "Epoch 51/100\n",
            "100/100 - 21s - loss: 0.5428 - acc: 0.7440 - val_loss: 0.5410 - val_acc: 0.7290\n",
            "Epoch 52/100\n",
            "100/100 - 20s - loss: 0.5495 - acc: 0.7260 - val_loss: 0.5391 - val_acc: 0.7400\n",
            "Epoch 53/100\n",
            "100/100 - 20s - loss: 0.5668 - acc: 0.7230 - val_loss: 0.5248 - val_acc: 0.7540\n",
            "Epoch 54/100\n",
            "100/100 - 20s - loss: 0.5499 - acc: 0.7310 - val_loss: 0.5204 - val_acc: 0.7440\n",
            "Epoch 55/100\n",
            "100/100 - 21s - loss: 0.5679 - acc: 0.7170 - val_loss: 0.5395 - val_acc: 0.7290\n",
            "Epoch 56/100\n",
            "100/100 - 21s - loss: 0.5536 - acc: 0.7295 - val_loss: 0.5520 - val_acc: 0.7300\n",
            "Epoch 57/100\n",
            "100/100 - 21s - loss: 0.5452 - acc: 0.7235 - val_loss: 0.5567 - val_acc: 0.6970\n",
            "Epoch 58/100\n",
            "100/100 - 20s - loss: 0.5512 - acc: 0.7325 - val_loss: 0.5295 - val_acc: 0.7470\n",
            "Epoch 59/100\n",
            "100/100 - 20s - loss: 0.5573 - acc: 0.7205 - val_loss: 0.5193 - val_acc: 0.7560\n",
            "Epoch 60/100\n",
            "100/100 - 20s - loss: 0.5468 - acc: 0.7320 - val_loss: 0.5411 - val_acc: 0.7270\n",
            "Epoch 61/100\n",
            "100/100 - 20s - loss: 0.5483 - acc: 0.7215 - val_loss: 0.5086 - val_acc: 0.7430\n",
            "Epoch 62/100\n",
            "100/100 - 21s - loss: 0.5548 - acc: 0.7260 - val_loss: 0.5060 - val_acc: 0.7550\n",
            "Epoch 63/100\n",
            "100/100 - 21s - loss: 0.5516 - acc: 0.7380 - val_loss: 0.4930 - val_acc: 0.7610\n",
            "Epoch 64/100\n",
            "100/100 - 21s - loss: 0.5376 - acc: 0.7340 - val_loss: 0.5059 - val_acc: 0.7520\n",
            "Epoch 65/100\n",
            "100/100 - 21s - loss: 0.5409 - acc: 0.7320 - val_loss: 0.5257 - val_acc: 0.7400\n",
            "Epoch 66/100\n",
            "100/100 - 21s - loss: 0.5387 - acc: 0.7360 - val_loss: 0.4904 - val_acc: 0.7770\n",
            "Epoch 67/100\n",
            "100/100 - 21s - loss: 0.5409 - acc: 0.7295 - val_loss: 0.5206 - val_acc: 0.7420\n",
            "Epoch 68/100\n",
            "100/100 - 21s - loss: 0.5344 - acc: 0.7425 - val_loss: 0.4974 - val_acc: 0.7540\n",
            "Epoch 69/100\n",
            "100/100 - 21s - loss: 0.5384 - acc: 0.7385 - val_loss: 0.4839 - val_acc: 0.7720\n",
            "Epoch 70/100\n",
            "100/100 - 20s - loss: 0.5465 - acc: 0.7325 - val_loss: 0.5122 - val_acc: 0.7530\n",
            "Epoch 71/100\n",
            "100/100 - 20s - loss: 0.5344 - acc: 0.7445 - val_loss: 0.5022 - val_acc: 0.7620\n",
            "Epoch 72/100\n",
            "100/100 - 21s - loss: 0.5553 - acc: 0.7300 - val_loss: 0.5606 - val_acc: 0.7430\n",
            "Epoch 73/100\n",
            "100/100 - 20s - loss: 0.5392 - acc: 0.7385 - val_loss: 0.4974 - val_acc: 0.7740\n",
            "Epoch 74/100\n",
            "100/100 - 20s - loss: 0.5595 - acc: 0.7260 - val_loss: 0.4979 - val_acc: 0.7730\n",
            "Epoch 75/100\n",
            "100/100 - 21s - loss: 0.5462 - acc: 0.7415 - val_loss: 0.6065 - val_acc: 0.7140\n",
            "Epoch 76/100\n",
            "100/100 - 21s - loss: 0.5309 - acc: 0.7290 - val_loss: 0.5304 - val_acc: 0.7530\n",
            "Epoch 77/100\n",
            "100/100 - 21s - loss: 0.5431 - acc: 0.7345 - val_loss: 0.5203 - val_acc: 0.7660\n",
            "Epoch 78/100\n",
            "100/100 - 20s - loss: 0.5403 - acc: 0.7435 - val_loss: 0.4994 - val_acc: 0.7690\n",
            "Epoch 79/100\n",
            "100/100 - 20s - loss: 0.5403 - acc: 0.7395 - val_loss: 0.5638 - val_acc: 0.7320\n",
            "Epoch 80/100\n",
            "100/100 - 20s - loss: 0.5384 - acc: 0.7375 - val_loss: 0.6211 - val_acc: 0.7090\n",
            "Epoch 81/100\n",
            "100/100 - 20s - loss: 0.5373 - acc: 0.7500 - val_loss: 0.5226 - val_acc: 0.7460\n",
            "Epoch 82/100\n",
            "100/100 - 20s - loss: 0.5388 - acc: 0.7340 - val_loss: 0.5261 - val_acc: 0.7450\n",
            "Epoch 83/100\n",
            "100/100 - 20s - loss: 0.5286 - acc: 0.7475 - val_loss: 0.5670 - val_acc: 0.7430\n",
            "Epoch 84/100\n",
            "100/100 - 20s - loss: 0.5402 - acc: 0.7400 - val_loss: 0.5751 - val_acc: 0.6960\n",
            "Epoch 85/100\n",
            "100/100 - 21s - loss: 0.5278 - acc: 0.7420 - val_loss: 0.4976 - val_acc: 0.7720\n",
            "Epoch 86/100\n",
            "100/100 - 21s - loss: 0.5337 - acc: 0.7360 - val_loss: 0.5399 - val_acc: 0.7360\n",
            "Epoch 87/100\n",
            "100/100 - 21s - loss: 0.5325 - acc: 0.7430 - val_loss: 0.5132 - val_acc: 0.7580\n",
            "Epoch 88/100\n",
            "100/100 - 21s - loss: 0.5344 - acc: 0.7460 - val_loss: 0.5168 - val_acc: 0.7570\n",
            "Epoch 89/100\n",
            "100/100 - 21s - loss: 0.5257 - acc: 0.7520 - val_loss: 0.5643 - val_acc: 0.7420\n",
            "Epoch 90/100\n",
            "100/100 - 21s - loss: 0.5282 - acc: 0.7360 - val_loss: 0.9584 - val_acc: 0.6530\n",
            "Epoch 91/100\n",
            "100/100 - 21s - loss: 0.5452 - acc: 0.7295 - val_loss: 0.4917 - val_acc: 0.7660\n",
            "Epoch 92/100\n",
            "100/100 - 20s - loss: 0.5165 - acc: 0.7630 - val_loss: 0.5413 - val_acc: 0.7510\n",
            "Epoch 93/100\n",
            "100/100 - 20s - loss: 0.5358 - acc: 0.7400 - val_loss: 0.5730 - val_acc: 0.6840\n",
            "Epoch 94/100\n",
            "100/100 - 20s - loss: 0.5262 - acc: 0.7370 - val_loss: 0.7506 - val_acc: 0.7280\n",
            "Epoch 95/100\n",
            "100/100 - 20s - loss: 0.5345 - acc: 0.7440 - val_loss: 0.5178 - val_acc: 0.7480\n",
            "Epoch 96/100\n",
            "100/100 - 20s - loss: 0.5199 - acc: 0.7520 - val_loss: 0.5185 - val_acc: 0.7610\n",
            "Epoch 97/100\n",
            "100/100 - 20s - loss: 0.5471 - acc: 0.7415 - val_loss: 0.5959 - val_acc: 0.7180\n",
            "Epoch 98/100\n",
            "100/100 - 20s - loss: 0.5280 - acc: 0.7485 - val_loss: 0.5103 - val_acc: 0.7490\n",
            "Epoch 99/100\n",
            "100/100 - 20s - loss: 0.5140 - acc: 0.7545 - val_loss: 0.5690 - val_acc: 0.7390\n",
            "Epoch 100/100\n",
            "100/100 - 21s - loss: 0.5280 - acc: 0.7425 - val_loss: 0.5488 - val_acc: 0.7180\n"
          ],
          "name": "stdout"
        }
      ]
    },
    {
      "cell_type": "code",
      "metadata": {
        "id": "J3MGFpOBLh5Z",
        "colab_type": "code",
        "outputId": "4036b2c1-89bb-463e-dbf4-38081d22c536",
        "colab": {
          "base_uri": "https://localhost:8080/",
          "height": 71
        }
      },
      "source": [
        "model_loss, model_acc = model.evaluate_generator(generator=validation_generator, \n",
        "                         steps= validation_generator.n // BATCH_SIZE,\n",
        "                         verbose=1)\n",
        "\n",
        "print('model loss is {} \\nmodel acc is {}'.format(model_loss, model_acc))"
      ],
      "execution_count": 0,
      "outputs": [
        {
          "output_type": "stream",
          "text": [
            "50/50 [==============================] - 4s 71ms/step - loss: 0.5488 - acc: 0.7180\n",
            "model loss is 0.5488300889730453 \n",
            "model acc is 0.7179999947547913\n"
          ],
          "name": "stdout"
        }
      ]
    },
    {
      "cell_type": "code",
      "metadata": {
        "id": "0fDenKm8JrUF",
        "colab_type": "code",
        "outputId": "ed62214e-125f-4704-93c5-a438e4930193",
        "colab": {
          "base_uri": "https://localhost:8080/",
          "height": 563
        }
      },
      "source": [
        "import matplotlib.pyplot as plt\n",
        "acc = history_2.history['acc']\n",
        "val_acc = history_2.history['val_acc']\n",
        "loss = history_2.history['loss']\n",
        "val_loss = history_2.history['val_acc']\n",
        "\n",
        "epochs = range(len(acc))\n",
        "\n",
        "plt.plot(epochs, acc, 'r', label='Training Accuracy')\n",
        "plt.plot(epochs, val_acc, 'b', label='Validation Accuracy')\n",
        "plt.title('Training and validation accuracy')\n",
        "plt.legend(loc=0)\n",
        "plt.figure()\n",
        "\n",
        "plt.plot(epochs, loss, 'r', label='Training Loss')\n",
        "plt.plot(epochs, val_loss, 'b', label='Validation Loss')\n",
        "plt.title('Training and validation loss curve')\n",
        "plt.legend(loc=0)\n",
        "plt.figure()\n",
        "\n",
        "\n",
        "\n",
        "\n",
        "plt.show()\n",
        "\n"
      ],
      "execution_count": 0,
      "outputs": [
        {
          "output_type": "display_data",
          "data": {
            "image/png": "[encoded data removed]",
            "text/plain": [
              "<Figure size 432x288 with 1 Axes>"
            ]
          },
          "metadata": {
            "tags": []
          }
        },
        {
          "output_type": "display_data",
          "data": {
            "image/png": "[encoded data removed]",
            "text/plain": [
              "<Figure size 432x288 with 1 Axes>"
            ]
          },
          "metadata": {
            "tags": []
          }
        },
        {
          "output_type": "display_data",
          "data": {
            "text/plain": [
              "<Figure size 432x288 with 0 Axes>"
            ]
          },
          "metadata": {
            "tags": []
          }
        }
      ]
    },
    {
      "cell_type": "code",
      "metadata": {
        "id": "7q7_m4AwQCEj",
        "colab_type": "code",
        "outputId": "ccb304e9-d220-4a69-a132-84c292d40944",
        "colab": {
          "base_uri": "https://localhost:8080/",
          "height": 35
        }
      },
      "source": [
        "print(tf.__version__)"
      ],
      "execution_count": 0,
      "outputs": [
        {
          "output_type": "stream",
          "text": [
            "1.14.0\n"
          ],
          "name": "stdout"
        }
      ]
    }
  ]
}